{
  "nbformat": 4,
  "nbformat_minor": 0,
  "metadata": {
    "colab": {
      "name": "2_Compute_linear_convolution_of_two_signals_and_compare_2017331047.ipynb",
      "provenance": [],
      "collapsed_sections": []
    },
    "kernelspec": {
      "name": "python3",
      "display_name": "Python 3"
    }
  },
  "cells": [
    {
      "cell_type": "markdown",
      "metadata": {
        "id": "-iQgjUqmSknZ"
      },
      "source": [
        "*Md. Neyamul Islam Shibbir*<br>\n",
        "**2017331047**"
      ]
    },
    {
      "cell_type": "code",
      "metadata": {
        "id": "g6eYv2c9s-KT",
        "colab": {
          "base_uri": "https://localhost:8080/",
          "height": 168
        },
        "outputId": "fc9261b9-2b3e-4d8b-e8d8-fcb6b516aca4"
      },
      "source": [
        "import matplotlib.pyplot as plt\n",
        "import numpy as np\n",
        "import scipy as sy\n",
        "plt.figure(figsize=(20,20))\n",
        "\n",
        "#input signal\n",
        "x = [5,2,4,1,-4,6,7,-9,10];\n",
        "\n",
        "#impulse response\n",
        "h = [1,4,4,5,3,5];\n",
        "\n",
        "l1 = len(x)\n",
        "l2 = len(h)\n",
        "N = l1+l2-1\n",
        "r1 = np.zeros(N)\n",
        "#Convolution from build-in function\n",
        "y2 = np.convolve(x,h)\n",
        "m = N-l1\n",
        "n = N-l2\n",
        "\n",
        "x =np.pad(x,(0,m),'constant')\n",
        "h =np.pad(h,(0,n),'constant')\n",
        "\n",
        "\n",
        "def direct(x,h):\n",
        "  for n in range (N):\n",
        "    for k in range (N):\n",
        "        if n >= k:\n",
        "             r1[n] = r1[n]+x[n-k]*h[k]\n",
        "  return r1\n",
        "\n",
        "\n",
        "#Direct Convolution from convolution sum equation\n",
        "y1= direct(x,h)\n",
        "\n",
        "\n",
        "\n",
        "print(\"Implementing Direct Convolution Sum Equation : \")\n",
        "print(y1)\n",
        "\n",
        "print(\"Using Python Library function numpy.convolve result : \")\n",
        "print(y2)\n",
        "\n",
        "print(\"------------- Comparing Two Arrays: ---------------\")\n",
        "print(\"As we can see from the both arrays they are same.\\nThere is no difference in the values of the arrays.\\nSo Both types of implementaion is correct.\")\n",
        "\n",
        "\n",
        "\n"
      ],
      "execution_count": 1,
      "outputs": [
        {
          "output_type": "stream",
          "name": "stdout",
          "text": [
            "Implementing Direct Convolution Sum Equation : \n",
            "[  5.  22.  32.  50.  41.  45.  42.  46.  25.  37.  46.  58. -15.  50.]\n",
            "Using Python Library function numpy.convolve result : \n",
            "[  5  22  32  50  41  45  42  46  25  37  46  58 -15  50]\n",
            "------------- Comparing Two Arrays: ---------------\n",
            "As we can see from the both arrays they are same.\n",
            "There is no difference in the values of the arrays.\n",
            "So Both types of implementaion is correct.\n"
          ]
        },
        {
          "output_type": "display_data",
          "data": {
            "text/plain": [
              "<Figure size 1440x1440 with 0 Axes>"
            ]
          },
          "metadata": {}
        }
      ]
    }
  ]
}